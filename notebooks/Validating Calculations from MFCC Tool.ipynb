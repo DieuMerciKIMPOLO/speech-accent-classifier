{
 "cells": [
  {
   "cell_type": "code",
   "execution_count": 11,
   "metadata": {},
   "outputs": [],
   "source": [
    "from python_speech_features import mfcc, delta\n",
    "import scipy.io.wavfile as wav\n",
    "import numpy as np"
   ]
  },
  {
   "cell_type": "code",
   "execution_count": 13,
   "metadata": {},
   "outputs": [
    {
     "name": "stderr",
     "output_type": "stream",
     "text": [
      "WARNING:root:frame length (1103) is greater than FFT size (512), frame will be truncated. Increase NFFT to avoid.\n"
     ]
    }
   ],
   "source": [
    "(rate,sig) = wav.read(\"accent_mfcc_data/ES-M-1-1.wav\")\n",
    "mfcc_feat = mfcc(sig,rate, numcep=12)"
   ]
  },
  {
   "cell_type": "code",
   "execution_count": 19,
   "metadata": {},
   "outputs": [
    {
     "data": {
      "text/plain": [
       "[13.596317306748555,\n",
       " 13.769165949718289,\n",
       " -15.36813892854051,\n",
       " -3.8829786036155878,\n",
       " 25.968805600772487,\n",
       " -15.919238886666163,\n",
       " 20.33825106827854,\n",
       " -19.14736238091131,\n",
       " -16.259369360239102,\n",
       " 4.133749630825744,\n",
       " -14.099837028359511,\n",
       " 0.49978301725155255]"
      ]
     },
     "execution_count": 19,
     "metadata": {},
     "output_type": "execute_result"
    }
   ],
   "source": [
    "[np.mean([m[i] for m in mfcc_feat]) for i in range(0,12)]"
   ]
  }
 ],
 "metadata": {
  "kernelspec": {
   "display_name": "Python 3",
   "language": "python",
   "name": "python3"
  },
  "language_info": {
   "codemirror_mode": {
    "name": "ipython",
    "version": 3
   },
   "file_extension": ".py",
   "mimetype": "text/x-python",
   "name": "python",
   "nbconvert_exporter": "python",
   "pygments_lexer": "ipython3",
   "version": "3.7.7"
  }
 },
 "nbformat": 4,
 "nbformat_minor": 4
}
